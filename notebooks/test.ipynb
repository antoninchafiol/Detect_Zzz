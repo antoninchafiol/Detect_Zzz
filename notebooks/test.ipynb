{
 "cells": [
  {
   "cell_type": "code",
   "execution_count": 25,
   "metadata": {},
   "outputs": [],
   "source": [
    "import pandas as pd \n",
    "\n",
    "from sklearn.model_selection import train_test_split\n",
    "# from ..data_prep.feature_engineering import *\n",
    "\n",
    "\n",
    "X = pd.read_parquet(\"../data/custom/X_fe_full0.parquet\")\n",
    "y = X.pop(\"event\")"
   ]
  },
  {
   "cell_type": "code",
   "execution_count": 2,
   "metadata": {},
   "outputs": [],
   "source": [
    "X, X_dev, y, y_dev = train_test_split(X,y, test_size=0.35)"
   ]
  },
  {
   "cell_type": "code",
   "execution_count": 12,
   "metadata": {},
   "outputs": [
    {
     "data": {
      "text/html": [
       "<div>\n",
       "<style scoped>\n",
       "    .dataframe tbody tr th:only-of-type {\n",
       "        vertical-align: middle;\n",
       "    }\n",
       "\n",
       "    .dataframe tbody tr th {\n",
       "        vertical-align: top;\n",
       "    }\n",
       "\n",
       "    .dataframe thead th {\n",
       "        text-align: right;\n",
       "    }\n",
       "</style>\n",
       "<table border=\"1\" class=\"dataframe\">\n",
       "  <thead>\n",
       "    <tr style=\"text-align: right;\">\n",
       "      <th></th>\n",
       "      <th>series_id</th>\n",
       "      <th>min_index</th>\n",
       "      <th>max_index</th>\n",
       "    </tr>\n",
       "  </thead>\n",
       "  <tbody>\n",
       "    <tr>\n",
       "      <th>0</th>\n",
       "      <td>3be1545083b7</td>\n",
       "      <td>31070520</td>\n",
       "      <td>31480198</td>\n",
       "    </tr>\n",
       "    <tr>\n",
       "      <th>1</th>\n",
       "      <td>e586cbfa7762</td>\n",
       "      <td>113643720</td>\n",
       "      <td>114282899</td>\n",
       "    </tr>\n",
       "    <tr>\n",
       "      <th>2</th>\n",
       "      <td>d5be621fd9aa</td>\n",
       "      <td>102571740</td>\n",
       "      <td>102957839</td>\n",
       "    </tr>\n",
       "    <tr>\n",
       "      <th>3</th>\n",
       "      <td>a88088855de5</td>\n",
       "      <td>78577380</td>\n",
       "      <td>78770159</td>\n",
       "    </tr>\n",
       "    <tr>\n",
       "      <th>4</th>\n",
       "      <td>844f54dcab89</td>\n",
       "      <td>61227181</td>\n",
       "      <td>61621559</td>\n",
       "    </tr>\n",
       "    <tr>\n",
       "      <th>...</th>\n",
       "      <td>...</td>\n",
       "      <td>...</td>\n",
       "      <td>...</td>\n",
       "    </tr>\n",
       "    <tr>\n",
       "      <th>272</th>\n",
       "      <td>0cfc06c129cc</td>\n",
       "      <td>5443380</td>\n",
       "      <td>5828038</td>\n",
       "    </tr>\n",
       "    <tr>\n",
       "      <th>273</th>\n",
       "      <td>ca732a3c37f7</td>\n",
       "      <td>95146920</td>\n",
       "      <td>95466059</td>\n",
       "    </tr>\n",
       "    <tr>\n",
       "      <th>274</th>\n",
       "      <td>8e32047cbc1f</td>\n",
       "      <td>67248720</td>\n",
       "      <td>67654259</td>\n",
       "    </tr>\n",
       "    <tr>\n",
       "      <th>275</th>\n",
       "      <td>d515236bdeec</td>\n",
       "      <td>102336121</td>\n",
       "      <td>102571737</td>\n",
       "    </tr>\n",
       "    <tr>\n",
       "      <th>276</th>\n",
       "      <td>3a9a9dc2cbd9</td>\n",
       "      <td>30372480</td>\n",
       "      <td>30475979</td>\n",
       "    </tr>\n",
       "  </tbody>\n",
       "</table>\n",
       "<p>277 rows × 3 columns</p>\n",
       "</div>"
      ],
      "text/plain": [
       "        series_id  min_index  max_index\n",
       "0    3be1545083b7   31070520   31480198\n",
       "1    e586cbfa7762  113643720  114282899\n",
       "2    d5be621fd9aa  102571740  102957839\n",
       "3    a88088855de5   78577380   78770159\n",
       "4    844f54dcab89   61227181   61621559\n",
       "..            ...        ...        ...\n",
       "272  0cfc06c129cc    5443380    5828038\n",
       "273  ca732a3c37f7   95146920   95466059\n",
       "274  8e32047cbc1f   67248720   67654259\n",
       "275  d515236bdeec  102336121  102571737\n",
       "276  3a9a9dc2cbd9   30372480   30475979\n",
       "\n",
       "[277 rows x 3 columns]"
      ]
     },
     "execution_count": 12,
     "metadata": {},
     "output_type": "execute_result"
    }
   ],
   "source": [
    "t = {'series_id': [], \"min_index\": [], \"max_index\": []}\n",
    "for i in X['series_id'].unique():\n",
    "    t['series_id'].append(i)\n",
    "    t['min_index'].append(X[X['series_id'] == i].index.min())  \n",
    "    t['max_index'].append(X[X['series_id'] == i].index.max())\n",
    "t= pd.DataFrame(t)\n",
    "t\n"
   ]
  },
  {
   "cell_type": "code",
   "execution_count": 30,
   "metadata": {},
   "outputs": [
    {
     "data": {
      "text/html": [
       "<div>\n",
       "<style scoped>\n",
       "    .dataframe tbody tr th:only-of-type {\n",
       "        vertical-align: middle;\n",
       "    }\n",
       "\n",
       "    .dataframe tbody tr th {\n",
       "        vertical-align: top;\n",
       "    }\n",
       "\n",
       "    .dataframe thead th {\n",
       "        text-align: right;\n",
       "    }\n",
       "</style>\n",
       "<table border=\"1\" class=\"dataframe\">\n",
       "  <thead>\n",
       "    <tr style=\"text-align: right;\">\n",
       "      <th></th>\n",
       "      <th>series_id</th>\n",
       "      <th>min_index</th>\n",
       "      <th>max_index</th>\n",
       "    </tr>\n",
       "  </thead>\n",
       "  <tbody>\n",
       "    <tr>\n",
       "      <th>0</th>\n",
       "      <td>3be1545083b7</td>\n",
       "      <td>31070520</td>\n",
       "      <td>31480198</td>\n",
       "    </tr>\n",
       "    <tr>\n",
       "      <th>1</th>\n",
       "      <td>e586cbfa7762</td>\n",
       "      <td>113643720</td>\n",
       "      <td>114282899</td>\n",
       "    </tr>\n",
       "    <tr>\n",
       "      <th>2</th>\n",
       "      <td>d5be621fd9aa</td>\n",
       "      <td>102571740</td>\n",
       "      <td>102957839</td>\n",
       "    </tr>\n",
       "    <tr>\n",
       "      <th>3</th>\n",
       "      <td>a88088855de5</td>\n",
       "      <td>78577380</td>\n",
       "      <td>78770159</td>\n",
       "    </tr>\n",
       "    <tr>\n",
       "      <th>4</th>\n",
       "      <td>844f54dcab89</td>\n",
       "      <td>61227181</td>\n",
       "      <td>61621559</td>\n",
       "    </tr>\n",
       "  </tbody>\n",
       "</table>\n",
       "</div>"
      ],
      "text/plain": [
       "      series_id  min_index  max_index\n",
       "0  3be1545083b7   31070520   31480198\n",
       "1  e586cbfa7762  113643720  114282899\n",
       "2  d5be621fd9aa  102571740  102957839\n",
       "3  a88088855de5   78577380   78770159\n",
       "4  844f54dcab89   61227181   61621559"
      ]
     },
     "execution_count": 30,
     "metadata": {},
     "output_type": "execute_result"
    }
   ],
   "source": [
    "t.head()"
   ]
  },
  {
   "cell_type": "code",
   "execution_count": 29,
   "metadata": {},
   "outputs": [
    {
     "name": "stdout",
     "output_type": "stream",
     "text": [
      "31070520\n",
      "113643720\n",
      "102571740\n",
      "78577380\n",
      "61227181\n"
     ]
    }
   ],
   "source": [
    "for i in range(t.head().shape[0]):\n",
    "    print(t.iloc[i]['min_index'])"
   ]
  },
  {
   "cell_type": "code",
   "execution_count": 14,
   "metadata": {},
   "outputs": [],
   "source": [
    "t.to_parquet(\"../data/custom/train_test_splitting_set.parquet\")"
   ]
  },
  {
   "cell_type": "code",
   "execution_count": 10,
   "metadata": {},
   "outputs": [
    {
     "name": "stdout",
     "output_type": "stream",
     "text": [
      "31480198\n",
      "31070520\n"
     ]
    }
   ],
   "source": [
    "print(X[X['series_id'] == \"3be1545083b7\"].index.min())\n",
    "print(X[X['series_id'] == \"3be1545083b7\"].index.max())"
   ]
  },
  {
   "cell_type": "code",
   "execution_count": 27,
   "metadata": {},
   "outputs": [
    {
     "data": {
      "text/plain": [
       "array(['3be1545083b7'], dtype=object)"
      ]
     },
     "execution_count": 27,
     "metadata": {},
     "output_type": "execute_result"
    }
   ],
   "source": [
    "X.loc[31480198]\n",
    "\n",
    "X.loc[31070520:31480198]['series_id'].unique()\n",
    "# X.head()"
   ]
  },
  {
   "cell_type": "code",
   "execution_count": 31,
   "metadata": {},
   "outputs": [
    {
     "data": {
      "text/html": [
       "<div>\n",
       "<style scoped>\n",
       "    .dataframe tbody tr th:only-of-type {\n",
       "        vertical-align: middle;\n",
       "    }\n",
       "\n",
       "    .dataframe tbody tr th {\n",
       "        vertical-align: top;\n",
       "    }\n",
       "\n",
       "    .dataframe thead th {\n",
       "        text-align: right;\n",
       "    }\n",
       "</style>\n",
       "<table border=\"1\" class=\"dataframe\">\n",
       "  <thead>\n",
       "    <tr style=\"text-align: right;\">\n",
       "      <th></th>\n",
       "      <th>series_id</th>\n",
       "      <th>min_index</th>\n",
       "      <th>max_index</th>\n",
       "    </tr>\n",
       "  </thead>\n",
       "  <tbody>\n",
       "  </tbody>\n",
       "</table>\n",
       "</div>"
      ],
      "text/plain": [
       "Empty DataFrame\n",
       "Columns: [series_id, min_index, max_index]\n",
       "Index: []"
      ]
     },
     "execution_count": 31,
     "metadata": {},
     "output_type": "execute_result"
    }
   ],
   "source": [
    "test = pd.DataFrame(columns=t.columns)\n",
    "test"
   ]
  },
  {
   "cell_type": "code",
   "execution_count": 32,
   "metadata": {},
   "outputs": [
    {
     "data": {
      "text/html": [
       "<div>\n",
       "<style scoped>\n",
       "    .dataframe tbody tr th:only-of-type {\n",
       "        vertical-align: middle;\n",
       "    }\n",
       "\n",
       "    .dataframe tbody tr th {\n",
       "        vertical-align: top;\n",
       "    }\n",
       "\n",
       "    .dataframe thead th {\n",
       "        text-align: right;\n",
       "    }\n",
       "</style>\n",
       "<table border=\"1\" class=\"dataframe\">\n",
       "  <thead>\n",
       "    <tr style=\"text-align: right;\">\n",
       "      <th></th>\n",
       "      <th>series_id</th>\n",
       "      <th>min_index</th>\n",
       "      <th>max_index</th>\n",
       "    </tr>\n",
       "  </thead>\n",
       "  <tbody>\n",
       "    <tr>\n",
       "      <th>0</th>\n",
       "      <td>3be1545083b7</td>\n",
       "      <td>31070520</td>\n",
       "      <td>31480198</td>\n",
       "    </tr>\n",
       "    <tr>\n",
       "      <th>1</th>\n",
       "      <td>e586cbfa7762</td>\n",
       "      <td>113643720</td>\n",
       "      <td>114282899</td>\n",
       "    </tr>\n",
       "    <tr>\n",
       "      <th>2</th>\n",
       "      <td>d5be621fd9aa</td>\n",
       "      <td>102571740</td>\n",
       "      <td>102957839</td>\n",
       "    </tr>\n",
       "    <tr>\n",
       "      <th>3</th>\n",
       "      <td>a88088855de5</td>\n",
       "      <td>78577380</td>\n",
       "      <td>78770159</td>\n",
       "    </tr>\n",
       "    <tr>\n",
       "      <th>4</th>\n",
       "      <td>844f54dcab89</td>\n",
       "      <td>61227181</td>\n",
       "      <td>61621559</td>\n",
       "    </tr>\n",
       "    <tr>\n",
       "      <th>...</th>\n",
       "      <td>...</td>\n",
       "      <td>...</td>\n",
       "      <td>...</td>\n",
       "    </tr>\n",
       "    <tr>\n",
       "      <th>272</th>\n",
       "      <td>0cfc06c129cc</td>\n",
       "      <td>5443380</td>\n",
       "      <td>5828038</td>\n",
       "    </tr>\n",
       "    <tr>\n",
       "      <th>273</th>\n",
       "      <td>ca732a3c37f7</td>\n",
       "      <td>95146920</td>\n",
       "      <td>95466059</td>\n",
       "    </tr>\n",
       "    <tr>\n",
       "      <th>274</th>\n",
       "      <td>8e32047cbc1f</td>\n",
       "      <td>67248720</td>\n",
       "      <td>67654259</td>\n",
       "    </tr>\n",
       "    <tr>\n",
       "      <th>275</th>\n",
       "      <td>d515236bdeec</td>\n",
       "      <td>102336121</td>\n",
       "      <td>102571737</td>\n",
       "    </tr>\n",
       "    <tr>\n",
       "      <th>276</th>\n",
       "      <td>3a9a9dc2cbd9</td>\n",
       "      <td>30372480</td>\n",
       "      <td>30475979</td>\n",
       "    </tr>\n",
       "  </tbody>\n",
       "</table>\n",
       "<p>277 rows × 3 columns</p>\n",
       "</div>"
      ],
      "text/plain": [
       "        series_id  min_index  max_index\n",
       "0    3be1545083b7   31070520   31480198\n",
       "1    e586cbfa7762  113643720  114282899\n",
       "2    d5be621fd9aa  102571740  102957839\n",
       "3    a88088855de5   78577380   78770159\n",
       "4    844f54dcab89   61227181   61621559\n",
       "..            ...        ...        ...\n",
       "272  0cfc06c129cc    5443380    5828038\n",
       "273  ca732a3c37f7   95146920   95466059\n",
       "274  8e32047cbc1f   67248720   67654259\n",
       "275  d515236bdeec  102336121  102571737\n",
       "276  3a9a9dc2cbd9   30372480   30475979\n",
       "\n",
       "[277 rows x 3 columns]"
      ]
     },
     "execution_count": 32,
     "metadata": {},
     "output_type": "execute_result"
    }
   ],
   "source": [
    "pd.concat([t, test])"
   ]
  },
  {
   "cell_type": "code",
   "execution_count": null,
   "metadata": {},
   "outputs": [],
   "source": []
  }
 ],
 "metadata": {
  "kernelspec": {
   "display_name": "tgpu",
   "language": "python",
   "name": "python3"
  },
  "language_info": {
   "codemirror_mode": {
    "name": "ipython",
    "version": 3
   },
   "file_extension": ".py",
   "mimetype": "text/x-python",
   "name": "python",
   "nbconvert_exporter": "python",
   "pygments_lexer": "ipython3",
   "version": "3.11.4"
  }
 },
 "nbformat": 4,
 "nbformat_minor": 2
}
